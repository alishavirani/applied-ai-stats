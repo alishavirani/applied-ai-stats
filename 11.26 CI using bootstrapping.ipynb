{
 "metadata": {
  "language_info": {
   "codemirror_mode": {
    "name": "ipython",
    "version": 3
   },
   "file_extension": ".py",
   "mimetype": "text/x-python",
   "name": "python",
   "nbconvert_exporter": "python",
   "pygments_lexer": "ipython3",
   "version": 3
  },
  "orig_nbformat": 2
 },
 "nbformat": 4,
 "nbformat_minor": 2,
 "cells": [
  {
   "cell_type": "code",
   "execution_count": null,
   "metadata": {},
   "outputs": [],
   "source": [
    "#refer written notes first\n",
    "import numpy\n",
    "from pandas import read_csv\n",
    "from sklearn.utils import resample\n",
    "from sklearn.metrics import accuracy_score\n",
    "from matplotlib import pyplot\n",
    "\n",
    "# load dataset, heights of people\n",
    "#sample of data (S)\n",
    "# x.len is m\n",
    "x = numpy.array([180,162,158,172,168,150,171,183,165,176])\n",
    "\n",
    "# configure bootstrap\n",
    "# k = 1000\n",
    "n_iterations = 1000\n",
    "\n",
    "#n_size = m\n",
    "n_size = int(len(x))\n",
    "\n",
    "# run bootstrap\n",
    "medians = list()\n",
    "for i in range(n_iterations):\n",
    "    # prepare train and test sets\n",
    "\n",
    "    #s1, s2, s3....sm (bootstrap sample)\n",
    "    #resample takes all the x values and the number of samples , here we are specifying the no. of samples = n, bcoz n is small (we know m <= n)\n",
    "    s = resample(x, n_samples=n_size);\n",
    "    m = numpy.median(s);\n",
    "    #print(m)\n",
    "    medians.append(m)\n",
    "\n",
    "# from above we are generating 1000 samples and computing 1000 medians (m1, m2,....m1000) for every sample\n",
    "\n",
    "# plot histogram of medians\n",
    "pyplot.hist(medians)\n",
    "pyplot.show() #need not be Gaussian\n",
    "\n",
    "# confidence intervals\n",
    "alpha = 0.95\n",
    "p = ((1.0-alpha)/2.0) * 100 # 2.5%\n",
    "\n",
    "#for the medians we are computing the 2.5th percentile value\n",
    "lower =  numpy.percentile(medians, p)\n",
    "\n",
    "p = (alpha+((1.0-alpha)/2.0)) * 100 #97.5%\n",
    "\n",
    "#for the medians we are computing the 97.5th percentile value\n",
    "upper =  numpy.percentile(medians, p)\n",
    "print('%.1f confidence interval %.1f and %.1f' % (alpha*100, lower, upper))"
   ]
  },
  {
   "cell_type": "code",
   "execution_count": null,
   "metadata": {},
   "outputs": [],
   "source": [
    "The CI is wide bcoz n is smaller n=10. If n would be 100 or 1000, the interval would be tighter"
   ]
  }
 ]
}